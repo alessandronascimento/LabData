{
  "nbformat": 4,
  "nbformat_minor": 0,
  "metadata": {
    "colab": {
      "name": "DSF_derivative.ipynb",
      "provenance": [],
      "collapsed_sections": []
    },
    "kernelspec": {
      "name": "python3",
      "display_name": "Python 3"
    },
    "language_info": {
      "name": "python"
    }
  },
  "cells": [
    {
      "cell_type": "markdown",
      "source": [
        "[![Open In Colab](https://colab.research.google.com/assets/colab-badge.svg)](https://colab.research.google.com/github/alessandronascimento/LabData/blob/main/DSF_scripts/DSF_derivative.ipynb)\n",
        "# Derivative of DSF data\n",
        "\n",
        "This python script takes the raw DSF data and computes its first derivative (dF/dT). By finding the maximal point in the derivative curve (d2F/dT2 = 0), it also gets the Tm for that curve.\n",
        "\n",
        "Finally, the dF/dT curves are printed using pyplot."
      ],
      "metadata": {
        "id": "UTLt5kdZ3mRb"
      }
    },
    {
      "cell_type": "markdown",
      "source": [
        "## Instructions to use the script\n",
        "\n",
        "Go in Execution Environment and click in \"Run all\". \n",
        "\n",
        "The script will ask you to upload your datafile. The data file should be a text file with columns separated by tab or spaces. The first line is supposed to contain the headers (Temperature, A1, A2, A3, ...) and the first column is supposed to contain the temperatures (25, 26, 27, ...). The remaining matrix should contain the raw fluorescence data."
      ],
      "metadata": {
        "id": "vduV6l1Fn_NU"
      }
    },
    {
      "cell_type": "code",
      "source": [
        "Tm_threshold =  40#@param {type:\"number\"}\n"
      ],
      "metadata": {
        "id": "koBhOAWchF9q"
      },
      "execution_count": 4,
      "outputs": []
    },
    {
      "cell_type": "code",
      "source": [
        "#@title Running code\n",
        "from matplotlib import pyplot as plt\n",
        "from google.colab import files\n",
        "\n",
        "datafile=''\n",
        "uploaded = files.upload()\n",
        "\n",
        "for fn in uploaded.keys():\n",
        "  print('User uploaded file \"{name}\" with length {length} bytes'.format(\n",
        "      name=fn, length=len(uploaded[fn])))\n",
        "  datafile=fn;\n",
        "\n",
        "\n",
        "count_line=0;\n",
        "headers = []\n",
        "temperature = []\n",
        "dataset = []\n",
        "\n",
        "n_lig = 0\n",
        "\n",
        "file = open(datafile, 'r')\n",
        "for line in file:\n",
        "  count_line=count_line + 1\n",
        "  line1 = line.split()\n",
        "  if count_line == 1:\n",
        "    for i in range(0,len(line1)):\n",
        "      headers.append(str(line1[i]));\n",
        "  else:\n",
        "    temperature.append(float(line1[0]));\n",
        "    v = [];\n",
        "    for j in range(1,len(line1)):\n",
        "      v.append(float(line1[j]));\n",
        "    dataset.append(v)\n",
        "\n",
        "print(\"There are %d temperature points\" % len(temperature));\n",
        "\n",
        "dF_dT=[]\n",
        "\n",
        "for i in range(0,len(temperature)-1):\n",
        "  v = []\n",
        "  for j in range(0,len(dataset[0])):\n",
        "    dF = dataset[i+1][j]-dataset[i][j] / (temperature[i+1]-temperature[i])\n",
        "    v.append(dF)\n",
        "  dF_dT.append(v)\n",
        "\n",
        "#print(\"dF_dT length: %d\" % len(dF_dT))\n",
        "#print(\"dF_dT[0] length: %d\" % len(dF_dT[0]))\n",
        "#print(dF_dT[0])\n",
        "\n",
        "fig, axes = plt.subplots(figsize=(20,10))\n",
        "\n",
        "for j in range(0,len(dF_dT[0])):\n",
        "  v = []\n",
        "  max = -9999999.\n",
        "  tmax = 0\n",
        "  for i in range(0,len(dF_dT)):\n",
        "    v.append(dF_dT[i][j])\n",
        "    if (dF_dT[i][j] > max):\n",
        "      max = dF_dT[i][j]\n",
        "      tmax = temperature[i]\n",
        "  v.append(v[len(v)-1])\n",
        "  if (tmax > Tm_threshold):\n",
        "    print(\"Tm for ligand %s: %f\" % (headers[j+1], tmax))\n",
        "    plt.plot(temperature, v, label=headers[j+1])\n",
        "\n",
        "plt.plot()\n",
        "plt.title(\"dF/dT\") \n",
        "plt.xlabel(\"Temperature (.oC)\") \n",
        "plt.ylabel(\"dF/dT (a.u.)\")\n",
        "plt.legend()\n",
        "plt.show() "
      ],
      "metadata": {
        "cellView": "form",
        "id": "dbVTPTB93q6H"
      },
      "execution_count": null,
      "outputs": []
    }
  ]
}